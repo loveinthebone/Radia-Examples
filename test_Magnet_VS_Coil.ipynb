{
 "cells": [
  {
   "cell_type": "code",
   "execution_count": 8,
   "metadata": {},
   "outputs": [
    {
     "name": "stdout",
     "output_type": "stream",
     "text": [
      "RADIA force and torque from an electromagnet to a permanent magnet\n"
     ]
    },
    {
     "ename": "RuntimeError",
     "evalue": "Incorrect function arguments: FldEnrTrq",
     "output_type": "error",
     "traceback": [
      "\u001b[0;31m---------------------------------------------------------------------------\u001b[0m",
      "\u001b[0;31mRuntimeError\u001b[0m                              Traceback (most recent call last)",
      "\u001b[0;32m<ipython-input-8-bc26d44f1ca9>\u001b[0m in \u001b[0;36m<module>\u001b[0;34m\u001b[0m\n\u001b[1;32m     53\u001b[0m     \u001b[0;31m#Calculate the force and the torque on the Cylinder Magnet, and print them out:\u001b[0m\u001b[0;34m\u001b[0m\u001b[0;34m\u001b[0m\u001b[0;34m\u001b[0m\u001b[0m\n\u001b[1;32m     54\u001b[0m \u001b[0;31m#     print('force on the magnet: ', rad.FldEnrFrc(aCylinderMag,aCoil,'fx, fy, fz'))\u001b[0m\u001b[0;34m\u001b[0m\u001b[0;34m\u001b[0m\u001b[0;34m\u001b[0m\u001b[0m\n\u001b[0;32m---> 55\u001b[0;31m     \u001b[0mprint\u001b[0m\u001b[0;34m(\u001b[0m\u001b[0;34m'torque on the LM: '\u001b[0m\u001b[0;34m,\u001b[0m \u001b[0mrad\u001b[0m\u001b[0;34m.\u001b[0m\u001b[0mFldEnrTrq\u001b[0m\u001b[0;34m(\u001b[0m\u001b[0maCylinderMag\u001b[0m\u001b[0;34m,\u001b[0m\u001b[0maCoil\u001b[0m\u001b[0;34m,\u001b[0m\u001b[0;34m'ty'\u001b[0m\u001b[0;34m,\u001b[0m\u001b[0;34m[\u001b[0m\u001b[0;36m1\u001b[0m\u001b[0;34m,\u001b[0m\u001b[0;36m2\u001b[0m\u001b[0;34m,\u001b[0m\u001b[0;36m3\u001b[0m\u001b[0;34m]\u001b[0m\u001b[0;34m,\u001b[0m\u001b[0;34m[\u001b[0m\u001b[0;36m0\u001b[0m\u001b[0;34m,\u001b[0m\u001b[0;36m0\u001b[0m\u001b[0;34m,\u001b[0m\u001b[0;36m0\u001b[0m\u001b[0;34m]\u001b[0m\u001b[0;34m)\u001b[0m\u001b[0;34m)\u001b[0m\u001b[0;34m\u001b[0m\u001b[0;34m\u001b[0m\u001b[0m\n\u001b[0m\u001b[1;32m     56\u001b[0m \u001b[0;34m\u001b[0m\u001b[0m\n",
      "\u001b[0;31mRuntimeError\u001b[0m: Incorrect function arguments: FldEnrTrq"
     ]
    }
   ],
   "source": [
    "#import stuff\n",
    "from __future__ import absolute_import, division, print_function #Py 2.*/3.* compatibility\n",
    "import radia as rad\n",
    "from math import *\n",
    "from uti_plot import *\n",
    "import numpy as np\n",
    "import matplotlib.pyplot as plt\n",
    "\n",
    "Br=1.2 #in the range of 1.32 to 1.37 T\n",
    "print('RADIA force and torque from an electromagnet to a permanent magnet')\n",
    "\n",
    "#*********************************Build the Geometry\n",
    "\n",
    "def Cylindercoil():\n",
    "    r_out = 25.0/2 #Outer radius of the coil, unit is mm\n",
    "    r_in = 12.5/2 #Inner radius\n",
    "    length = 30 #Length of the coil\n",
    "    d_wire = 0.402 #coil wire diameter in mm\n",
    "    I = 2 #current through the coil in A\n",
    "    j = I/((np.pi*d_wire**2)/4) #current density\n",
    "    nseg = 6\n",
    "    \n",
    "    # rad.ObjRaceTrk[ctr:[x,y,z], rad:[r1,r2], lstr:[lx,ly], thickness, number_of_segment, j]\n",
    "    coil = rad.ObjRaceTrk([0.,0.,30], [r_in,r_out], [  0.,0.], length, nseg, j,'man','z')\n",
    "    return coil\n",
    "\n",
    "def CylinderVolume():\n",
    "    D_mag=37.5 # diamter of the LM in mm\n",
    "    _r = D_mag/2.0\n",
    "    T_mag=12.5 # Thickness of the LM\n",
    "    _n_phi=15 #segmentation number of the circle\n",
    "    dPhi = 2.*np.pi/_n_phi\n",
    "    phi = dPhi\n",
    "    slicePgn = [[_r, 0.]]\n",
    "    for k in range(1, _n_phi):\n",
    "        slicePgn.append([_r*cos(phi), _r*sin(phi)])\n",
    "        phi += dPhi\n",
    "    LM = rad.ObjThckPgn(T_mag/2, T_mag, slicePgn, 'z', [0,0,Br]) \n",
    "    return LM\n",
    "\n",
    "#*********************************Entry Point\n",
    "if __name__==\"__main__\":\n",
    "\n",
    "    #Build the Geometry \n",
    "    aCylinderMag = CylinderVolume() \n",
    "    \n",
    "    aCoil=Cylindercoil()\n",
    "    \n",
    "    # assemble into a group\n",
    "    grp = rad.ObjCnt([aCylinderMag, aCoil])\n",
    "    \n",
    "    \n",
    "    #Calculate the force and the torque on the Cylinder Magnet, and print them out:\n",
    "#     print('force on the magnet: ', rad.FldEnrFrc(aCylinderMag,aCoil,'fx, fy, fz')) #no error to compute force\n",
    "    print('torque on the LM: ', rad.FldEnrTrq(aCylinderMag,aCoil,'ty',[1,2,3],[0,0,0])) # error to computer torque: \"RuntimeError: Incorrect function arguments: FldEnrTrq\"\n",
    "   "
   ]
  },
  {
   "cell_type": "code",
   "execution_count": null,
   "metadata": {},
   "outputs": [],
   "source": []
  }
 ],
 "metadata": {
  "kernelspec": {
   "display_name": "Python 3",
   "language": "python",
   "name": "py3"
  },
  "language_info": {
   "codemirror_mode": {
    "name": "ipython",
    "version": 3
   },
   "file_extension": ".py",
   "mimetype": "text/x-python",
   "name": "python",
   "nbconvert_exporter": "python",
   "pygments_lexer": "ipython3",
   "version": "3.7.2"
  }
 },
 "nbformat": 4,
 "nbformat_minor": 4
}
